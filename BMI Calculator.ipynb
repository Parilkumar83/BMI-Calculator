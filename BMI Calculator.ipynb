{
 "cells": [
  {
   "cell_type": "code",
   "execution_count": 5,
   "id": "eaa7dbea",
   "metadata": {},
   "outputs": [
    {
     "name": "stdout",
     "output_type": "stream",
     "text": [
      "Enter your height in cm:180\n",
      "Enter your weight in kgs:95\n",
      "('Overweight', 29.320987654320987)\n"
     ]
    }
   ],
   "source": [
    "height = int(input(\"Enter your height in cm:\"))\n",
    "weight = int(input(\"Enter your weight in kgs:\"))\n",
    "\n",
    "def BMI(height, weight):\n",
    "    bmi = weight/(height/100)**2 \n",
    "    if(bmi<16):\n",
    "        return 'Severely Underweight', bmi\n",
    "    elif(bmi>=16 and bmi<18.5):\n",
    "        return 'Underweight', bmi\n",
    "    elif(bmi>=18.5 and bmi<25):\n",
    "        return 'Healty', bmi\n",
    "    elif(bmi>=25 and bmi<30):\n",
    "        return 'Overweight', bmi\n",
    "    elif(bmi>=30):\n",
    "        return 'Obese', bmi\n",
    "    \n",
    "print(BMI(height,weight))"
   ]
  },
  {
   "cell_type": "code",
   "execution_count": null,
   "id": "de49c562",
   "metadata": {},
   "outputs": [],
   "source": []
  }
 ],
 "metadata": {
  "kernelspec": {
   "display_name": "Python 3",
   "language": "python",
   "name": "python3"
  },
  "language_info": {
   "codemirror_mode": {
    "name": "ipython",
    "version": 3
   },
   "file_extension": ".py",
   "mimetype": "text/x-python",
   "name": "python",
   "nbconvert_exporter": "python",
   "pygments_lexer": "ipython3",
   "version": "3.8.8"
  }
 },
 "nbformat": 4,
 "nbformat_minor": 5
}
